{
  "nbformat": 4,
  "nbformat_minor": 0,
  "metadata": {
    "colab": {
      "provenance": [],
      "authorship_tag": "ABX9TyPTrUsFCNftd4JCl4WuJuYt",
      "include_colab_link": true
    },
    "kernelspec": {
      "name": "python3",
      "display_name": "Python 3"
    },
    "language_info": {
      "name": "python"
    }
  },
  "cells": [
    {
      "cell_type": "markdown",
      "metadata": {
        "id": "view-in-github",
        "colab_type": "text"
      },
      "source": [
        "<a href=\"https://colab.research.google.com/github/Akkalaspandana/AI-ML_BATCH_4/blob/main/Untitled0.ipynb\" target=\"_parent\"><img src=\"https://colab.research.google.com/assets/colab-badge.svg\" alt=\"Open In Colab\"/></a>"
      ]
    },
    {
      "cell_type": "code",
      "execution_count": 8,
      "metadata": {
        "colab": {
          "base_uri": "https://localhost:8080/"
        },
        "id": "HC38TfhUSBkx",
        "outputId": "20c4a11c-e05e-48c6-9c12-aef90d549aeb"
      },
      "outputs": [
        {
          "output_type": "stream",
          "name": "stdout",
          "text": [
            "Type of array1: <class 'numpy.ndarray'>\n",
            "Power of array1: [ 1  4  9 16 25]\n",
            "Sin values: [ 0.84147098  0.90929743  0.14112001 -0.7568025  -0.95892427]\n",
            "Log values: [0.         0.69314718 1.09861229 1.38629436 1.60943791]\n",
            "Log2 values: [0.         1.         1.5849625  2.         2.32192809]\n",
            "Exponential values: [  2.71828183   7.3890561   20.08553692  54.59815003 148.4131591 ]\n",
            "Addition of Two Arrays: [1 2 3 4 5] + [ 6  7  8  9 10] = [ 7  9 11 13 15]\n"
          ]
        }
      ],
      "source": [
        "import numpy as np\n",
        "list1 = [1, 2, 3, 4, 5]\n",
        "array1 = np.array(list1)\n",
        "print(\"Type of array1:\", type(array1))\n",
        "power = array1 ** 2\n",
        "print(\"Power of array1:\", power)\n",
        "sin_values = np.sin(array1)\n",
        "log_values = np.log(array1)\n",
        "log2_values = np.log2(array1)\n",
        "exp_values = np.exp(array1)\n",
        "print(\"Sin values:\", sin_values)\n",
        "print(\"Log values:\", log_values)\n",
        "print(\"Log2 values:\", log2_values)\n",
        "print(\"Exponential values:\", exp_values)\n",
        "array1 = np.array([1, 2, 3, 4, 5])\n",
        "array2 = np.array([6, 7, 8, 9, 10])\n",
        "\n",
        "# Performing addition using NumPy\n",
        "sum_arrays = array1 + array2\n",
        "text_output = (\"Addition of Two Arrays: {} + {} = {}\".format(array1, array2, sum_arrays))\n",
        "\n",
        "# Printing combined text\n",
        "print(text_output)"
      ]
    },
    {
      "cell_type": "markdown",
      "source": [],
      "metadata": {
        "id": "JXhADk_6T-Gd"
      }
    }
  ]
}